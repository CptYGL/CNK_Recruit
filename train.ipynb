{
 "cells": [
  {
   "cell_type": "code",
   "execution_count": 12,
   "metadata": {},
   "outputs": [
    {
     "name": "stdout",
     "output_type": "stream",
     "text": [
      "2093\n"
     ]
    }
   ],
   "source": [
    "# simple import\n",
    "import numpy as np\n",
    "import json,pickle\n",
    "import torch,re\n",
    "import torch.nn as nn\n",
    "#internal import\n",
    "from builder_vocab import load_vocab\n",
    "from builder_dataset import CrfBIODataset\n",
    "from torch.utils.data import DataLoader\n",
    "# import torch.nn.functional as F\n"
   ]
  },
  {
   "cell_type": "code",
   "execution_count": 44,
   "metadata": {},
   "outputs": [
    {
     "name": "stderr",
     "output_type": "stream",
     "text": [
      "Traceback (most recent call last):\n",
      "  File \"C:\\Users\\18631\\anaconda3\\envs\\EDA_AI\\lib\\runpy.py\", line 194, in _run_module_as_main\n",
      "    return _run_code(code, main_globals, None,\n",
      "  File \"C:\\Users\\18631\\anaconda3\\envs\\EDA_AI\\lib\\runpy.py\", line 87, in _run_code\n",
      "    exec(code, run_globals)\n",
      "  File \"C:\\Users\\18631\\anaconda3\\envs\\EDA_AI\\Scripts\\pipreqs.exe\\__main__.py\", line 7, in <module>\n",
      "  File \"C:\\Users\\18631\\anaconda3\\envs\\EDA_AI\\lib\\site-packages\\pipreqs\\pipreqs.py\", line 528, in main\n",
      "    init(args)\n",
      "  File \"C:\\Users\\18631\\anaconda3\\envs\\EDA_AI\\lib\\site-packages\\pipreqs\\pipreqs.py\", line 455, in init\n",
      "    candidates = get_all_imports(input_path,\n",
      "  File \"C:\\Users\\18631\\anaconda3\\envs\\EDA_AI\\lib\\site-packages\\pipreqs\\pipreqs.py\", line 115, in get_all_imports\n",
      "    contents = f.read()\n",
      "UnicodeDecodeError: 'gbk' codec can't decode byte 0x80 in position 391: illegal multibyte sequence\n"
     ]
    }
   ],
   "source": [
    "! pipreqs ."
   ]
  }
 ],
 "metadata": {
  "kernelspec": {
   "display_name": "Python 3.8.16 ('EDA_AI')",
   "language": "python",
   "name": "python3"
  },
  "language_info": {
   "codemirror_mode": {
    "name": "ipython",
    "version": 3
   },
   "file_extension": ".py",
   "mimetype": "text/x-python",
   "name": "python",
   "nbconvert_exporter": "python",
   "pygments_lexer": "ipython3",
   "version": "3.8.16"
  },
  "orig_nbformat": 4,
  "vscode": {
   "interpreter": {
    "hash": "054a6cfd0eff8f33606821a201cfd169216d817c63d1571d098ff499944369fa"
   }
  }
 },
 "nbformat": 4,
 "nbformat_minor": 2
}
